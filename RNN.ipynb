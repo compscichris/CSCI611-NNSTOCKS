{
 "cells": [
  {
   "cell_type": "markdown",
   "id": "5a504bd5-33f3-4135-b694-5d160efe0736",
   "metadata": {},
   "source": [
    "# Cuda setup\n",
    "Check if cuda is available."
   ]
  },
  {
   "cell_type": "code",
   "execution_count": 2,
   "id": "0699a32e-8d74-4417-b8c7-43e55639f628",
   "metadata": {},
   "outputs": [
    {
     "name": "stdout",
     "output_type": "stream",
     "text": [
      "CUDA is available!  Training on GPU ...\n"
     ]
    }
   ],
   "source": [
    "import torch\n",
    "import numpy as np\n",
    "\n",
    "# check if CUDA is available\n",
    "train_on_gpu = torch.cuda.is_available()\n",
    "\n",
    "if not train_on_gpu:\n",
    "    print('CUDA is not available.  Training on CPU ...')\n",
    "else:\n",
    "    print('CUDA is available!  Training on GPU ...')"
   ]
  },
  {
   "cell_type": "markdown",
   "id": "cc568980-9012-4439-b9c4-bae733988f00",
   "metadata": {},
   "source": [
    "# Import data from source\n",
    "METHOD 1: install yfinance in the environment hosting python and jupyter. I used Anaconda, and installed through conda terminal into my environment.\n",
    "\n",
    "*pip install yfinance*\n",
    "\n",
    "Use the yfinance API to retrieve company data"
   ]
  },
  {
   "cell_type": "code",
   "execution_count": 3,
   "id": "cfa97f9a-30e8-4452-b67d-583a13662bba",
   "metadata": {},
   "outputs": [],
   "source": [
    "import yfinance as yf\n",
    "import os"
   ]
  },
  {
   "cell_type": "markdown",
   "id": "6ea0af98-4596-4825-ba6b-da68f5872ca6",
   "metadata": {},
   "source": [
    "# Process data from csv files\n",
    "Use pandas library for processing files, and use matplotlib to display graphs and visualizations."
   ]
  },
  {
   "cell_type": "code",
   "execution_count": 4,
   "id": "a7576d49-c91e-4e00-a572-9daca579a325",
   "metadata": {},
   "outputs": [],
   "source": [
    "import pandas as pd\n",
    "import torch.nn as nn\n",
    "import matplotlib.pyplot as plt\n",
    "import torch.optim as optim\n",
    "\n",
    "from torchvision import datasets\n",
    "import torchvision.transforms as transforms\n",
    "from torch.utils.data.sampler import SubsetRandomSampler\n",
    "%matplotlib inline"
   ]
  },
  {
   "cell_type": "code",
   "execution_count": 37,
   "id": "52f264cc-de65-4935-ac22-8300a6df8f7c",
   "metadata": {},
   "outputs": [],
   "source": [
    "batch_size = 16\n",
    "num_workers = 0\n",
    "class StockDataset(torch.utils.data.Dataset[float]):\n",
    "    def __init__(self, sequences, targets):\n",
    "        super(StockDataset).__init__()\n",
    "        self.sequences = sequences\n",
    "        self.targets = targets\n",
    "    def __len__(self):\n",
    "        return len(self.sequences)    \n",
    "    def __getitem__(self, index):\n",
    "        sequence = torch.tensor(self.sequences[index], dtype=torch.float32).unsqueeze(-1)#sequence at index \n",
    "        target = torch.tensor(self.targets[index], dtype=torch.float32)#test_value at index\n",
    "        return sequence, target\n"
   ]
  },
  {
   "cell_type": "markdown",
   "id": "fb9f3c7f-aee6-4d8b-961a-bb7c073dd811",
   "metadata": {},
   "source": [
    "# Display relevant information for formatting purposes"
   ]
  },
  {
   "cell_type": "code",
   "execution_count": 47,
   "id": "a1056a69-21ac-4d87-8daa-760ac05dfc2a",
   "metadata": {},
   "outputs": [],
   "source": [
    "class RNN_initializer:\n",
    "    #\n",
    "    def __init__(self, retrieve, name, recomp, nval, ival, pval):\n",
    "        if(retrieve == True):\n",
    "            self.csv_name = self.retrieve_csv(name, recomp, nval, str(ival[0])+ival[1], str(pval[0])+pval[1])\n",
    "        else:\n",
    "            self.csv_name = name\n",
    "        self.df=pd.read_csv(\"AMD_intraday1.csv\")\n",
    "        #format data, and prepare it for RNN\n",
    "        price = self.df['Close'].to_list()[2:]\n",
    "        self.axis_labels = self.df['Price'].to_list()[2:]\n",
    "        date_format_with_time = \"%Y-%m-%d %H:%M:%S\"\n",
    "        self.price_inputs = [float(x) for x in price]\n",
    "        sequence_length = 6\n",
    "        #Training sets\n",
    "        self.train_seq = []\n",
    "        self.train_tar = []\n",
    "        #Validation sets\n",
    "        self.valid_seq = []\n",
    "        self.valid_tar = []\n",
    "        #Testing sets\n",
    "        self.test_seq = []\n",
    "        self.test_tar = []\n",
    "        #choose a selected time range\n",
    "        train_range = len(self.price_inputs)//pval[0] * (pval[0]-1)\n",
    "        test_range_beg = train_range\n",
    "        test_range_end = train_range + len(self.price_inputs)//pval[0]\n",
    "        #generate sequences and targets list for loading data\n",
    "        for i in range(train_range - sequence_length):\n",
    "            seq = self.price_inputs[i:i+sequence_length]\n",
    "            self.train_seq.append(seq)\n",
    "            temp = self.price_inputs[i+sequence_length]\n",
    "            self.train_tar.append(temp)\n",
    "        for j in range(test_range_beg, test_range_end-sequence_length):\n",
    "            seq = self.price_inputs[j:j+sequence_length]\n",
    "            self.train_seq.append(seq)\n",
    "            temp = self.price_inputs[j+sequence_length]\n",
    "            self.train_tar.append(temp)\n",
    "        train_data = StockDataset(self.train_seq, self.train_tar)\n",
    "        test_data = StockDataset(self.test_seq, self.test_tar)\n",
    "        \n",
    "        self.train_loader = torch.utils.data.DataLoader(train_data, batch_size=batch_size, num_workers=num_workers)\n",
    "        #valid_loader = torch.utils.data.DataLoader(self.test_vals, batch_size=batch_size, \n",
    "        #sampler=valid_sampler, num_workers=num_workers)\n",
    "        self.test_loader = torch.utils.data.DataLoader(test_data, batch_size=batch_size, \n",
    "    num_workers=num_workers)\n",
    "    # retreive_csv is a file that allows the user to extract stock data from yahoo finance.\n",
    "    # @param: name, name of file\n",
    "    # @param: recomp, indicates if file needs to be recompiled\n",
    "    # @param: num, indicates which file need to be recompiled\n",
    "    def retrieve_csv(self, name, recomp, nval, ival, pval):\n",
    "        # Example: Get 1-minute intraday data for Apple (AAPL) for 1 day\n",
    "        data = yf.download(name, interval=\"5m\", period=\"7d\")\n",
    "        ext = \".csv\"\n",
    "        pt2 = \"_intraday\"\n",
    "        num = 1;\n",
    "        file_name = name + pt2 + str(num) + ext\n",
    "        found = False\n",
    "        if(recomp!=True):\n",
    "            while(found!=True):\n",
    "                if os.path.isfile(file_name):\n",
    "                    num+=1\n",
    "                    file_name = name + pt2 + str(num) + ext\n",
    "                else:\n",
    "                    found = True\n",
    "        else:\n",
    "            if(nval >= 1):\n",
    "                file_name = name + pt2 + str(nval) + ext\n",
    "            else:\n",
    "                file_name = name + pt2 + ext\n",
    "        data.to_csv(file_name)\n",
    "        return file_name\n",
    "\n",
    "    def display_fig(self):\n",
    "        plt.figure(figsize=(20, 20))\n",
    "        plt.title(\"AMD Intraday Stock Price\")\n",
    "        plt.plot(self.axis_labels, self.price_inputs)\n",
    "        plt.xlabel(\"time\")\n",
    "        plt.ylabel(\"price\")\n",
    "        plt.xticks(self.axis_labels[::26])\n",
    "        plt.yticks(self.price_inputs[::30])\n",
    "        plt.show()\n",
    "\n",
    "    def show_df_info(self):\n",
    "        self.df.head(15)\n",
    "        self.df.tail(10)\n",
    "        print(\"Row count: \" + len(self.price_inputs))\n",
    "        print(\"Selected range: \" + selected_range)\n",
    "        \n",
    "    def trainAndTest(self):\n",
    "        #RNN model\n",
    "        self.rnn1 = RNN()\n",
    "        # move tensors to GPU if CUDA is available\n",
    "        if train_on_gpu:\n",
    "            self.rnn1.cuda()\n",
    "        #use MSELoss instead of MSEAbsoluteLoss (predicting next price compared to next change)\n",
    "        error = nn.MSELoss()\n",
    "        # specify optimizer\n",
    "        optimizer = torch.optim.Adam(self.rnn1.parameters(), lr=0.001)\n",
    "        #optimizer = optim.SGD(model.parameters(), lr=0.01)\n",
    "        #self.price_tensor = torch.tensor(self.sequences, dtype=torch.float32).unsqueeze(-1)#input \n",
    "        #self.y_tensor = torch.tensor(self.test_vals, dtype=torch.float32)#test_values\n",
    "        valid_loss_min = np.inf\n",
    "        epochs = 50\n",
    "        for epoch in range(epochs):\n",
    "            train_loss = 0.0\n",
    "            valid_loss = 0.0\n",
    "            #TRAINING\n",
    "            self.rnn1.train()\n",
    "            for batch_idx, (data, target) in enumerate(self.train_loader):\n",
    "                # move tensors to GPU if CUDA is available\n",
    "                if train_on_gpu:\n",
    "                    data, target = data.cuda(), target.cuda()\n",
    "                # clear the gradients of all optimized variables\n",
    "                optimizer.zero_grad()\n",
    "                # forward pass: compute predicted outputs by passing inputs to the model\n",
    "                output = self.rnn1(data)\n",
    "                # calculate the batch loss\n",
    "                loss = error(output, target)\n",
    "                # backward pass: compute gradient of the loss with respect to model parameters\n",
    "                loss.backward()\n",
    "                # perform a single optimization step (parameter update)\n",
    "                optimizer.step()\n",
    "                train_loss += loss.item()*data.size(0)\n",
    "        \n",
    "            if (epoch+1) % 10 == 0:\n",
    "                print(f\"Epoch {epoch+1}/{epochs}, Loss: {loss.item():.6f}\")\n",
    "        \n",
    "class RNN(nn.Module):\n",
    "    def __init__(self):\n",
    "        super(RNN, self).__init__()\n",
    "        self.rnn1 = nn.RNN(input_size=1, hidden_size=128, num_layers=2, nonlinearity='tanh', bias=True, batch_first=True, dropout=0.0, bidirectional=False, device=None, dtype=None)\n",
    "        self.fc = nn.Linear(128, 1)\n",
    "        \n",
    "    def forward(self, x):\n",
    "        self.output, self.hidden = self.rnn1(x)\n",
    "        prediction = self.fc(self.output[:, -1, :])\n",
    "        return prediction\n",
    "        \n"
   ]
  },
  {
   "cell_type": "code",
   "execution_count": 48,
   "id": "962b09fa-139f-4317-a936-9d306848fe4d",
   "metadata": {},
   "outputs": [],
   "source": [
    "rnn1 = RNN_initializer(retrieve=False, name=\"AMD\", recomp=True, nval=1, ival=[5, \"m\"], pval=[7,\"d\"])"
   ]
  },
  {
   "cell_type": "code",
   "execution_count": 49,
   "id": "7c40c65e-3a8a-4306-bb71-a365246c813d",
   "metadata": {},
   "outputs": [
    {
     "name": "stderr",
     "output_type": "stream",
     "text": [
      "C:\\Users\\chr1s\\anaconda3\\envs\\compscichris\\Lib\\site-packages\\torch\\nn\\modules\\loss.py:608: UserWarning: Using a target size (torch.Size([16])) that is different to the input size (torch.Size([16, 1])). This will likely lead to incorrect results due to broadcasting. Please ensure they have the same size.\n",
      "  return F.mse_loss(input, target, reduction=self.reduction)\n",
      "C:\\Users\\chr1s\\anaconda3\\envs\\compscichris\\Lib\\site-packages\\torch\\nn\\modules\\loss.py:608: UserWarning: Using a target size (torch.Size([6])) that is different to the input size (torch.Size([6, 1])). This will likely lead to incorrect results due to broadcasting. Please ensure they have the same size.\n",
      "  return F.mse_loss(input, target, reduction=self.reduction)\n"
     ]
    },
    {
     "name": "stdout",
     "output_type": "stream",
     "text": [
      "Epoch 10/50, Loss: 13000.807617\n",
      "Epoch 20/50, Loss: 6416.993164\n",
      "Epoch 30/50, Loss: 2880.767334\n",
      "Epoch 40/50, Loss: 1199.705200\n",
      "Epoch 50/50, Loss: 500.020782\n"
     ]
    }
   ],
   "source": [
    "#rnn1.display_fig()\n",
    "rnn1.trainAndTest()"
   ]
  },
  {
   "cell_type": "code",
   "execution_count": 19,
   "id": "1d87229d-268e-4d1b-b0d0-4ac7c128fcc1",
   "metadata": {},
   "outputs": [],
   "source": [
    "#output,hidden = rnn1(price_tensor)\n",
    "#print(output.shape)  # (1, 1, 128)\n",
    "#print(hidden.shape)  # (2, 1, 128)\n",
    "  # Predict 1 value from hidden_size=128\n",
    "\n",
    "#prediction = fc(output[:, -1, :])  # Take output at last time step\n",
    "#print(prediction)"
   ]
  },
  {
   "cell_type": "markdown",
   "id": "8a74fb33-cc5a-47ca-9e9c-d413adbdfaa9",
   "metadata": {},
   "source": [
    "## Test the Trained Network\n",
    "---\n",
    "Test your trained model on previously unseen data! Remember we have downloaded `train_data` and `test_data`. We will use `test_data` through `test_loader`.\n",
    "\n",
    "A \"good\" result will be a CNN that gets around 70% (or more, try your best!) accuracy on these test images.\n",
    "\n",
    "The following is working code, but you are encouraged to make your own adjustments and enhance the implementation."
   ]
  },
  {
   "cell_type": "markdown",
   "id": "ed0d43a4-8766-4323-bf5c-98ac8df970c4",
   "metadata": {},
   "source": [
    "### Specify [Loss Function](http://pytorch.org/docs/stable/nn.html#loss-functions) and [Optimizer](http://pytorch.org/docs/stable/optim.html)\n",
    "---\n",
    "Decide on a loss and optimization function that is best suited for this classification task. The linked code examples from above, may be a good starting point; [this PyTorch classification example](https://github.com/pytorch/tutorials/blob/master/beginner_source/blitz/cifar10_tutorial.py) Pay close attention to the value for **learning rate** as this value determines how your model converges to a small error.\n",
    "\n",
    "The following is working code, but you can make your own adjustments.\n",
    "\n",
    "**TODO**: try to compare with ADAM optimizer"
   ]
  },
  {
   "cell_type": "code",
   "execution_count": null,
   "id": "88d78c82-f8ad-4dd7-9105-5f0b04dcc77b",
   "metadata": {},
   "outputs": [],
   "source": [
    "error = nn.MSELoss()\n",
    "optimizer = torch.optim.Adam(prediction.parameters(), lr=0.001)\n",
    "\n",
    "epochs = 50\n",
    "for epoch in range(epochs):\n",
    "    rnn1.train()\n",
    "    fc.train()\n",
    "    \n",
    "    output,hidden = rnn1(price_tensor)\n",
    "    prediction = fc(output[:, -1, :])\n",
    "    loss = error(prediction, y_tensor)\n",
    "    \n",
    "    optimizer.zero_grad()\n",
    "    loss.backward()\n",
    "    optimizer.step()\n",
    "\n",
    "    if (epoch+1) % 10 == 0:\n",
    "        print(f\"Epoch {epoch+1}/{epochs}, Loss: {loss.item():.6f}\")"
   ]
  },
  {
   "cell_type": "code",
   "execution_count": null,
   "id": "691e06a1-95d1-4558-8c3e-0cd8d70a765d",
   "metadata": {},
   "outputs": [],
   "source": []
  },
  {
   "cell_type": "code",
   "execution_count": null,
   "id": "8c9311fa-b706-4266-91f8-c531673109cf",
   "metadata": {},
   "outputs": [],
   "source": []
  }
 ],
 "metadata": {
  "kernelspec": {
   "display_name": "Python 3 (ipykernel)",
   "language": "python",
   "name": "python3"
  },
  "language_info": {
   "codemirror_mode": {
    "name": "ipython",
    "version": 3
   },
   "file_extension": ".py",
   "mimetype": "text/x-python",
   "name": "python",
   "nbconvert_exporter": "python",
   "pygments_lexer": "ipython3",
   "version": "3.12.11"
  }
 },
 "nbformat": 4,
 "nbformat_minor": 5
}
